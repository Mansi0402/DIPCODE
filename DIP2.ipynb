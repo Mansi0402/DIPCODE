{
 "cells": [
  {
   "cell_type": "code",
   "execution_count": 3,
   "id": "48a69430",
   "metadata": {},
   "outputs": [
    {
     "name": "stdout",
     "output_type": "stream",
     "text": [
      "Image successfully converted to PNG format and saved as D:\\flower.png.\n"
     ]
    }
   ],
   "source": [
    "from PIL import Image\n",
    "\n",
    "def convert_image(input_file, output_file, output_format):\n",
    "    try:\n",
    "        with Image.open(input_file) as img:\n",
    "            img.save(output_file, format=output_format)\n",
    "        print(f\"Image successfully converted to {output_format} format and saved as {output_file}.\")\n",
    "    except IOError as e:\n",
    "        print(\"Error\")\n",
    "\n",
    "input_file = \"D:\\\\flower.jpg\"\n",
    "output_file = \"D:\\\\flower.png\"\n",
    "output_format = \"PNG\"\n",
    "\n",
    "convert_image(input_file, output_file, output_format)\n"
   ]
  },
  {
   "cell_type": "code",
   "execution_count": null,
   "id": "ef95ec91",
   "metadata": {},
   "outputs": [],
   "source": []
  }
 ],
 "metadata": {
  "kernelspec": {
   "display_name": "Python 3 (ipykernel)",
   "language": "python",
   "name": "python3"
  },
  "language_info": {
   "codemirror_mode": {
    "name": "ipython",
    "version": 3
   },
   "file_extension": ".py",
   "mimetype": "text/x-python",
   "name": "python",
   "nbconvert_exporter": "python",
   "pygments_lexer": "ipython3",
   "version": "3.8.13"
  }
 },
 "nbformat": 4,
 "nbformat_minor": 5
}
